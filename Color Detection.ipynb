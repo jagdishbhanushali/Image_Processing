{
 "cells": [
  {
   "cell_type": "code",
   "execution_count": 2,
   "metadata": {
    "collapsed": true
   },
   "outputs": [],
   "source": [
    "import numpy as np\n",
    "import argparse\n",
    "import cv2\n",
    "from skimage import color"
   ]
  },
  {
   "cell_type": "code",
   "execution_count": 3,
   "metadata": {},
   "outputs": [
    {
     "name": "stdout",
     "output_type": "stream",
     "text": [
      "HSV color = [  5  36 122]\n",
      "Lower bound is :[0, 0, 0]\n",
      "Upper bound is :[10, 255, 255]\n",
      "[[[  2.94117647  13.93442623  47.84313725]]]\n"
     ]
    }
   ],
   "source": [
    "def converter(red,green,blue):\n",
    "    rgb_color = np.uint8([[[red, green, blue]]])\n",
    "    hsv_color = cv2.cvtColor(rgb_color, cv2.COLOR_RGB2HSV)\n",
    "\n",
    "    hue = hsv_color[0][0][0]\n",
    "    \n",
    "    print(\"HSV color =\",hsv_color[0][0])\n",
    "    print(\"Lower bound is :[\"+ str(hue-5) + \", 0, 0]\")\n",
    "\n",
    "    print(\"Upper bound is :[\"+ str(hue + 5) + \", 255, 255]\")\n",
    "    print(color.rgb2hsv(rgb_color)*100)\n",
    "converter(122,108,105)"
   ]
  },
  {
   "cell_type": "code",
   "execution_count": 96,
   "metadata": {
    "collapsed": true
   },
   "outputs": [],
   "source": []
  },
  {
   "cell_type": "code",
   "execution_count": 5,
   "metadata": {
    "collapsed": true
   },
   "outputs": [],
   "source": [
    "boundaries = [\n",
    "    ([169, 100, 100], [189, 255,255]),\n",
    "    ([86, 31, 4], [220, 88, 50]),\n",
    "    ([25, 146, 190], [62, 174, 250]),\n",
    "    ([103, 86, 65], [145, 133, 128])\n",
    "]"
   ]
  },
  {
   "cell_type": "code",
   "execution_count": 6,
   "metadata": {
    "scrolled": false
   },
   "outputs": [],
   "source": [
    "cam=cv2.VideoCapture(0)\n",
    "while True:\n",
    "    image=cv2.cvtColor(cam.read()[1], cv2.COLOR_BGR2RGB)\n",
    "#     image=cv2.cvtColor(cv2.imread('color-picker.png'), cv2.COLOR_BGR2RGB) rgb(122, 92, 84)\n",
    "    lower_range = np.array([1, 0,0], dtype=np.uint8)\n",
    "    upper_range = np.array([22, 255,255], dtype=np.uint8)\n",
    "# for (lower, upper) in boundaries:\n",
    "    # create NumPy arrays from the boundaries\n",
    "    # lower = np.array(lower, dtype = \"uint8\")\n",
    "    # upper = np.array(upper, dtype = \"uint8\")\n",
    "    hsv= cv2.cvtColor(image, cv2.COLOR_RGB2HSV)\n",
    "    # find the colors within the specified boundaries and apply\n",
    "    # the mask\n",
    "    mask = cv2.inRange(hsv, lower_range, upper_range)\n",
    "#     mask = cv2.erode(mask, None, iterations=2)\n",
    "#     mask = cv2.dilate(mask, None, iterations=2)\n",
    "#     mask2 = cv2.cvtColor(mask, cv2.COLOR_HSV2RGB)\n",
    "    output = cv2.bitwise_and(image, image, mask = mask)\n",
    "#     cv2.imshow(\"img\",cv2.cvtColor(image, cv2.COLOR_BGR2RGB))\n",
    "    cv2.imshow(\"img2\",cv2.cvtColor(output, cv2.COLOR_BGR2RGB))\n",
    "#     cv2.imwrite(\"img.jpg\",cv2.cvtColor(image, cv2.COLOR_BGR2RGB))\n",
    "    if(cv2.waitKey(1)==27):\n",
    "        break\n",
    "cv2.destroyAllWindows()\n",
    "cam.release()"
   ]
  },
  {
   "cell_type": "code",
   "execution_count": 7,
   "metadata": {
    "collapsed": true
   },
   "outputs": [],
   "source": [
    "cv2.destroyAllWindows()"
   ]
  },
  {
   "cell_type": "code",
   "execution_count": 8,
   "metadata": {
    "collapsed": true
   },
   "outputs": [],
   "source": [
    "cam.release()"
   ]
  },
  {
   "cell_type": "code",
   "execution_count": null,
   "metadata": {
    "collapsed": true
   },
   "outputs": [],
   "source": []
  }
 ],
 "metadata": {
  "kernelspec": {
   "display_name": "Python 3",
   "language": "python",
   "name": "python3"
  },
  "language_info": {
   "codemirror_mode": {
    "name": "ipython",
    "version": 3
   },
   "file_extension": ".py",
   "mimetype": "text/x-python",
   "name": "python",
   "nbconvert_exporter": "python",
   "pygments_lexer": "ipython3",
   "version": "3.6.1"
  }
 },
 "nbformat": 4,
 "nbformat_minor": 2
}
